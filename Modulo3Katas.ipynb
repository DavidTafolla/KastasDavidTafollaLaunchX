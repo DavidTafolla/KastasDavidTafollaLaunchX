{
 "cells": [
  {
   "cell_type": "markdown",
   "metadata": {},
   "source": [
    "# Ejercicio - Escribir declaraciones if, else, y elif"
   ]
  },
  {
   "cell_type": "markdown",
   "metadata": {},
   "source": [
    "Para este ejercicio, escribirás una lógica condicional que imprima una advertencia si un asteroide se acerca a la Tierra demasiado rápido. La velocidad del asteroide varía dependiendo de lo cerca que esté del sol, y cualquier velocidad superior a 25 kilómetros por segundo (km/s) merece una advertencia.\n",
    "\n",
    "Un asteroide se acerca, y viaja a una velocidad de 49 km/s."
   ]
  },
  {
   "cell_type": "code",
   "execution_count": 6,
   "metadata": {},
   "outputs": [
    {
     "name": "stdout",
     "output_type": "stream",
     "text": [
      "El asteroide esta cerca de la tierra y viene a  49  km/s\n"
     ]
    }
   ],
   "source": [
    "velocidad=49\n",
    "\n",
    "if velocidad>25:\n",
    "    print(\"El asteroide esta cerca de la tierra y viene a \",velocidad, \" km/s\")\n",
    "else:\n",
    "    print(\"No se acerca ningun asteoride a la tierra\")"
   ]
  },
  {
   "cell_type": "markdown",
   "metadata": {},
   "source": [
    "\n",
    "Si un asteroide entra en la atmósfera de la Tierra a una velocidad mayor o igual a 20 km/s, a veces produce un rayo de luz que se puede ver desde la Tierra. Escribe la lógica condicional que usa declaraciones if, else, y elif para alertar a las personas de todo el mundo que deben buscar un asteroide en el cielo. ¡Hay uno que se dirige a la tierra ahora a una velocidad de 19 km/s!"
   ]
  },
  {
   "cell_type": "code",
   "execution_count": 7,
   "metadata": {},
   "outputs": [
    {
     "name": "stdout",
     "output_type": "stream",
     "text": [
      "No se acerca ningun asteoride a la tierra\n"
     ]
    }
   ],
   "source": [
    "velocidad=19\n",
    "\n",
    "if velocidad>=20:\n",
    "    print(\"El asteroide esta cerca de la tierra y se puede observar en el cielo, viene a \",velocidad, \" km/s\")\n",
    "else:\n",
    "    print(\"No se acerca ningun asteoride a la tierra\")"
   ]
  },
  {
   "cell_type": "markdown",
   "metadata": {},
   "source": [
    "##### V2 del Código"
   ]
  },
  {
   "cell_type": "code",
   "execution_count": 8,
   "metadata": {},
   "outputs": [
    {
     "name": "stdout",
     "output_type": "stream",
     "text": [
      "No se acerca ningun asteoride a la tierra\n"
     ]
    }
   ],
   "source": [
    "velocidad=19\n",
    "\n",
    "if velocidad>20:\n",
    "    print(\"El asteroide esta cerca de la tierra y se puede observar en el cielo, viene a \",velocidad, \" km/s\")\n",
    "\n",
    "elif velocidad==20:\n",
    "    print(\"El asteroide esta cerca de la tierra y se puede observar en el cielo, viene a \",velocidad, \" km/s\")\n",
    "else:\n",
    "    print(\"No se acerca ningun asteoride a la tierra\")"
   ]
  },
  {
   "cell_type": "markdown",
   "metadata": {},
   "source": [
    "### Ejercicio: Uso de operadores and y or"
   ]
  },
  {
   "cell_type": "markdown",
   "metadata": {},
   "source": [
    "En este ejercicio, aprenderás información más matizada sobre cuándo los asteroides representan un peligro para la Tierra, y utilizarás esa información para mejorar nuestro sistema de advertencia. Aquí está la nueva información que necesitas saber:\n",
    "\n",
    "*Los asteroides de menos de 25 metros en su dimensión más grande probablemente se quemarán a medida que entren en la atmósfera de la Tierra.\n",
    "\n",
    "Si una pieza de un asteroide que es más grande que 25 metros pero más pequeña que 1000 metros golpeara la Tierra, causaría mucho daño.\n",
    "También discutimos en el ejercicio anterior que:\n",
    "\n",
    "La velocidad del asteroide varía en función de lo cerca que esté del sol, y cualquier velocidad superior a 25 kilómetros por segundo (km/s) merece una advertencia.\n",
    "Si un asteroide entra en la atmósfera de la Tierra a una velocidad mayor o igual a 20 km/s, a veces produce un rayo de luz que se puede ver desde la Tierra.\n",
    "Usando toda esta información, escribe un programa que emita la advertencia o información correcta a la gente de la Tierra, según la velocidad y el tamaño de un asteroide. Utiliza instrucciones if, else, y elif, así como los operadores and y or."
   ]
  },
  {
   "cell_type": "code",
   "execution_count": 35,
   "metadata": {},
   "outputs": [
    {
     "name": "stdout",
     "output_type": "stream",
     "text": [
      "El asteroide esta cerca de la tierra y se puede observar en el cielo, viene a  25  km/s y tiene un tamaño de 40 m\n"
     ]
    }
   ],
   "source": [
    "velocidad=25\n",
    "tamaño=40\n",
    "\n",
    "if tamaño>25 and velocidad>25:\n",
    "    print(\"Cuidado, un asteroide golpeará a la tierra que puede causar daño, ya que su tamaño es de\",tamaño,\"m y viene a una velocidad de\",velocidad,\"km/s\")\n",
    "elif velocidad>=20:\n",
    "    print(\"El asteroide esta cerca de la tierra y se puede observar en el cielo, viene a \",velocidad, \" km/s y tiene un tamaño de\",tamaño,\"m\")\n",
    "\n",
    "elif tamaño<25:\n",
    "    print(\"No se acerca ningun asteoride a la tierra\")\n",
    "else:\n",
    "    print(\"No se acerca ningun asteoride a la tierra\")"
   ]
  }
 ],
 "metadata": {
  "interpreter": {
   "hash": "0aa81fd4a772a8b1e375e8f720fa044defc14a0a448e8667a1098847b41a8cc6"
  },
  "kernelspec": {
   "display_name": "Python 3.10.2 64-bit (windows store)",
   "language": "python",
   "name": "python3"
  },
  "language_info": {
   "codemirror_mode": {
    "name": "ipython",
    "version": 3
   },
   "file_extension": ".py",
   "mimetype": "text/x-python",
   "name": "python",
   "nbconvert_exporter": "python",
   "pygments_lexer": "ipython3",
   "version": "3.10.2"
  },
  "orig_nbformat": 4
 },
 "nbformat": 4,
 "nbformat_minor": 2
}
